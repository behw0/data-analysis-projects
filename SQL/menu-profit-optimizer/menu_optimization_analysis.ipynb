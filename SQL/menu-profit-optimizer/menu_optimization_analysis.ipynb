# menu_optimization_analysis.ipynb

import pandas as pd
import matplotlib.pyplot as plt
import seaborn as sns

# Carregar os dados
data = pd.read_csv('../data/restaurant_menu_optimization_data.csv')

# Exibir as primeiras linhas do dataframe
print(data.head())

# Análise descritiva
print(data.describe())

# Distribuição de preços por categoria
plt.figure(figsize=(10, 6))
sns.boxplot(x='MenuCategory', y='Price', data=data)
plt.title('Distribuição de Preços por Categoria de Menu')
plt.xlabel('Categoria de Menu')
plt.ylabel('Preço ($)')
plt.show()

# Lucratividade por categoria de menu
plt.figure(figsize=(10, 6))
sns.countplot(x='MenuCategory', hue='Lucratividade', data=data)
plt.title('Lucratividade por Categoria de Menu')
plt.xlabel('Categoria de Menu')
plt.ylabel('Contagem')
plt.legend(title='Lucratividade')
plt.show()

# Análise de ingredientes (exemplo de ingredientes confidenciais para bebidas)
# Nota: Isso requer processamento adicional para lidar com os ingredientes listados como strings.
# Por simplicidade, esta parte é deixada como um exercício para o usuário.

